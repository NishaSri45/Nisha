{
 "cells": [
  {
   "cell_type": "code",
   "execution_count": null,
   "id": "f0263513",
   "metadata": {
    "scrolled": false
   },
   "outputs": [],
   "source": [
    "pip uninstall opencv-python"
   ]
  },
  {
   "cell_type": "code",
   "execution_count": 1,
   "id": "38fc57f9",
   "metadata": {},
   "outputs": [],
   "source": [
    "import cv2"
   ]
  },
  {
   "cell_type": "code",
   "execution_count": 2,
   "id": "75d7a066",
   "metadata": {},
   "outputs": [],
   "source": [
    "import numpy as np"
   ]
  },
  {
   "cell_type": "code",
   "execution_count": 6,
   "id": "03ba4f24",
   "metadata": {},
   "outputs": [
    {
     "name": "stdout",
     "output_type": "stream",
     "text": [
      "Collecting pygame\n",
      "  Obtaining dependency information for pygame from https://files.pythonhosted.org/packages/1b/e0/edce124be8f73249e6b862e13107adc1f7e3b275ed9468d018026b6fbf91/pygame-2.6.0-cp311-cp311-win_amd64.whl.metadata\n",
      "  Downloading pygame-2.6.0-cp311-cp311-win_amd64.whl.metadata (13 kB)\n",
      "Downloading pygame-2.6.0-cp311-cp311-win_amd64.whl (10.8 MB)\n",
      "   ---------------------------------------- 0.0/10.8 MB ? eta -:--:--\n",
      "   ---------------------------------------- 0.1/10.8 MB 1.6 MB/s eta 0:00:07\n",
      "    --------------------------------------- 0.3/10.8 MB 3.1 MB/s eta 0:00:04\n",
      "   -- ------------------------------------- 0.6/10.8 MB 4.8 MB/s eta 0:00:03\n",
      "   --- ------------------------------------ 0.9/10.8 MB 4.7 MB/s eta 0:00:03\n",
      "   ---- ----------------------------------- 1.2/10.8 MB 5.3 MB/s eta 0:00:02\n",
      "   ----- ---------------------------------- 1.4/10.8 MB 4.8 MB/s eta 0:00:02\n",
      "   ----- ---------------------------------- 1.5/10.8 MB 4.8 MB/s eta 0:00:02\n",
      "   ------ --------------------------------- 1.7/10.8 MB 4.6 MB/s eta 0:00:02\n",
      "   ------ --------------------------------- 1.8/10.8 MB 4.5 MB/s eta 0:00:02\n",
      "   ------- -------------------------------- 2.0/10.8 MB 4.5 MB/s eta 0:00:02\n",
      "   -------- ------------------------------- 2.2/10.8 MB 4.6 MB/s eta 0:00:02\n",
      "   -------- ------------------------------- 2.4/10.8 MB 4.4 MB/s eta 0:00:02\n",
      "   --------- ------------------------------ 2.6/10.8 MB 4.4 MB/s eta 0:00:02\n",
      "   ---------- ----------------------------- 2.8/10.8 MB 4.4 MB/s eta 0:00:02\n",
      "   ----------- ---------------------------- 3.0/10.8 MB 4.3 MB/s eta 0:00:02\n",
      "   ----------- ---------------------------- 3.2/10.8 MB 4.3 MB/s eta 0:00:02\n",
      "   ------------ --------------------------- 3.3/10.8 MB 4.2 MB/s eta 0:00:02\n",
      "   ------------- -------------------------- 3.5/10.8 MB 4.2 MB/s eta 0:00:02\n",
      "   ------------- -------------------------- 3.7/10.8 MB 4.2 MB/s eta 0:00:02\n",
      "   -------------- ------------------------- 3.9/10.8 MB 4.2 MB/s eta 0:00:02\n",
      "   -------------- ------------------------- 4.0/10.8 MB 4.1 MB/s eta 0:00:02\n",
      "   --------------- ------------------------ 4.2/10.8 MB 4.2 MB/s eta 0:00:02\n",
      "   ---------------- ----------------------- 4.3/10.8 MB 4.2 MB/s eta 0:00:02\n",
      "   ---------------- ----------------------- 4.4/10.8 MB 4.2 MB/s eta 0:00:02\n",
      "   ----------------- ---------------------- 4.6/10.8 MB 4.2 MB/s eta 0:00:02\n",
      "   ----------------- ---------------------- 4.8/10.8 MB 4.1 MB/s eta 0:00:02\n",
      "   ------------------ --------------------- 5.0/10.8 MB 4.1 MB/s eta 0:00:02\n",
      "   ------------------- -------------------- 5.1/10.8 MB 4.1 MB/s eta 0:00:02\n",
      "   ------------------- -------------------- 5.3/10.8 MB 4.1 MB/s eta 0:00:02\n",
      "   -------------------- ------------------- 5.4/10.8 MB 4.1 MB/s eta 0:00:02\n",
      "   -------------------- ------------------- 5.6/10.8 MB 4.1 MB/s eta 0:00:02\n",
      "   --------------------- ------------------ 5.8/10.8 MB 4.1 MB/s eta 0:00:02\n",
      "   ---------------------- ----------------- 6.0/10.8 MB 4.1 MB/s eta 0:00:02\n",
      "   ---------------------- ----------------- 6.1/10.8 MB 4.1 MB/s eta 0:00:02\n",
      "   ----------------------- ---------------- 6.3/10.8 MB 4.1 MB/s eta 0:00:02\n",
      "   ------------------------ --------------- 6.5/10.8 MB 4.1 MB/s eta 0:00:02\n",
      "   ------------------------ --------------- 6.6/10.8 MB 4.0 MB/s eta 0:00:02\n",
      "   ------------------------- -------------- 6.8/10.8 MB 4.1 MB/s eta 0:00:01\n",
      "   ------------------------- -------------- 7.0/10.8 MB 4.1 MB/s eta 0:00:01\n",
      "   -------------------------- ------------- 7.0/10.8 MB 4.1 MB/s eta 0:00:01\n",
      "   -------------------------- ------------- 7.0/10.8 MB 4.1 MB/s eta 0:00:01\n",
      "   -------------------------- ------------- 7.0/10.8 MB 4.1 MB/s eta 0:00:01\n",
      "   -------------------------- ------------- 7.2/10.8 MB 3.8 MB/s eta 0:00:01\n",
      "   --------------------------- ------------ 7.5/10.8 MB 3.9 MB/s eta 0:00:01\n",
      "   ----------------------------- ---------- 7.9/10.8 MB 4.0 MB/s eta 0:00:01\n",
      "   ------------------------------ --------- 8.1/10.8 MB 4.0 MB/s eta 0:00:01\n",
      "   ------------------------------ --------- 8.3/10.8 MB 4.0 MB/s eta 0:00:01\n",
      "   ------------------------------- -------- 8.4/10.8 MB 4.0 MB/s eta 0:00:01\n",
      "   -------------------------------- ------- 8.6/10.8 MB 4.0 MB/s eta 0:00:01\n",
      "   -------------------------------- ------- 8.8/10.8 MB 4.0 MB/s eta 0:00:01\n",
      "   --------------------------------- ------ 9.0/10.8 MB 4.0 MB/s eta 0:00:01\n",
      "   ---------------------------------- ----- 9.2/10.8 MB 4.0 MB/s eta 0:00:01\n",
      "   ---------------------------------- ----- 9.3/10.8 MB 4.0 MB/s eta 0:00:01\n",
      "   ----------------------------------- ---- 9.5/10.8 MB 4.0 MB/s eta 0:00:01\n",
      "   ----------------------------------- ---- 9.6/10.8 MB 4.0 MB/s eta 0:00:01\n",
      "   ------------------------------------ --- 9.8/10.8 MB 4.0 MB/s eta 0:00:01\n",
      "   ------------------------------------- -- 10.0/10.8 MB 4.0 MB/s eta 0:00:01\n",
      "   ------------------------------------- -- 10.1/10.8 MB 4.0 MB/s eta 0:00:01\n",
      "   -------------------------------------- - 10.3/10.8 MB 4.0 MB/s eta 0:00:01\n",
      "   ---------------------------------------  10.5/10.8 MB 4.0 MB/s eta 0:00:01\n",
      "   ---------------------------------------  10.7/10.8 MB 4.0 MB/s eta 0:00:01\n",
      "   ---------------------------------------  10.7/10.8 MB 4.0 MB/s eta 0:00:01\n",
      "   ---------------------------------------- 10.8/10.8 MB 3.9 MB/s eta 0:00:00\n",
      "Installing collected packages: pygame\n",
      "Successfully installed pygame-2.6.0\n",
      "Note: you may need to restart the kernel to use updated packages.\n"
     ]
    }
   ],
   "source": [
    "pip install pygame"
   ]
  },
  {
   "cell_type": "code",
   "execution_count": 3,
   "id": "1a02d260",
   "metadata": {},
   "outputs": [
    {
     "name": "stdout",
     "output_type": "stream",
     "text": [
      "pygame 2.6.0 (SDL 2.28.4, Python 3.11.5)\n",
      "Hello from the pygame community. https://www.pygame.org/contribute.html\n"
     ]
    }
   ],
   "source": [
    "import pygame"
   ]
  },
  {
   "cell_type": "code",
   "execution_count": 4,
   "id": "607461a3",
   "metadata": {},
   "outputs": [],
   "source": [
    "pygame.mixer.init()"
   ]
  },
  {
   "cell_type": "code",
   "execution_count": 5,
   "id": "ea3243d2",
   "metadata": {},
   "outputs": [],
   "source": [
    "sound = pygame.mixer.Sound(\"./Notification_Popup_01.wav.mp3\")"
   ]
  },
  {
   "cell_type": "code",
   "execution_count": 6,
   "id": "31055796",
   "metadata": {},
   "outputs": [],
   "source": [
    "face_cascade = cv2.CascadeClassifier('C:\\\\ProgramData\\\\anaconda3\\\\Lib\\\\site-packages\\\\cv2\\\\data\\\\haarcascade_frontalface_default.xml')"
   ]
  },
  {
   "cell_type": "code",
   "execution_count": 7,
   "id": "d9a22318",
   "metadata": {},
   "outputs": [],
   "source": [
    "cap = cv2.VideoCapture(0)"
   ]
  },
  {
   "cell_type": "code",
   "execution_count": 8,
   "id": "2b3e177a",
   "metadata": {},
   "outputs": [],
   "source": [
    "is_drinking = False"
   ]
  },
  {
   "cell_type": "code",
   "execution_count": null,
   "id": "ef52d09f",
   "metadata": {},
   "outputs": [
    {
     "name": "stdout",
     "output_type": "stream",
     "text": [
      "Drinking coffee detected!\n",
      "Drinking coffee detected!\n",
      "Drinking coffee detected!\n",
      "Drinking coffee detected!\n",
      "Drinking coffee detected!\n"
     ]
    }
   ],
   "source": [
    "while True:\n",
    "    ret, frame = cap.read()\n",
    "    \n",
    "    gray = cv2.cvtColor(frame, cv2.COLOR_BGR2GRAY)\n",
    "    \n",
    "    faces = face_cascade.detectMultiScale(gray, 1.3, 5)\n",
    "    \n",
    "    for (x, y, w, h) in faces:\n",
    "        mouth_roi = gray[y+h//2:y+h, x:x+w]\n",
    "        _, mouth_thresh = cv2.threshold(mouth_roi, 50, 255, cv2.THRESH_BINARY) \n",
    "        white_pixels = np.sum(mouth_thresh == 255)\n",
    "        \n",
    "        if white_pixels > 10000:\n",
    "            if not is_drinking:\n",
    "                print(\"Drinking coffee detected!\")\n",
    "                is_drinking = True\n",
    "                sound.play()\n",
    "        else:\n",
    "            is_drinking = False\n",
    "            \n",
    "        cv2.rectangle(frame, (x,y), (x+w, y+h), (255, 0, 0), 2)\n",
    "        \n",
    "    cv2.imshow('frame', frame)\n",
    "        \n",
    "        \n",
    "                "
   ]
  }
 ],
 "metadata": {
  "kernelspec": {
   "display_name": "Python 3 (ipykernel)",
   "language": "python",
   "name": "python3"
  },
  "language_info": {
   "codemirror_mode": {
    "name": "ipython",
    "version": 3
   },
   "file_extension": ".py",
   "mimetype": "text/x-python",
   "name": "python",
   "nbconvert_exporter": "python",
   "pygments_lexer": "ipython3",
   "version": "3.11.5"
  }
 },
 "nbformat": 4,
 "nbformat_minor": 5
}
